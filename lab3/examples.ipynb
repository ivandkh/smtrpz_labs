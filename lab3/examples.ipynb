{
 "cells": [
  {
   "cell_type": "code",
   "execution_count": 1,
   "metadata": {},
   "outputs": [],
   "source": [
    "import datetime"
   ]
  },
  {
   "cell_type": "code",
   "execution_count": 2,
   "metadata": {},
   "outputs": [],
   "source": [
    "from cards import CardType, TimeDuration\n",
    "from register import Register\n",
    "from turnstile import Turnstile"
   ]
  },
  {
   "cell_type": "markdown",
   "metadata": {},
   "source": [
    "## Create Register and Turnstiles"
   ]
  },
  {
   "cell_type": "code",
   "execution_count": 3,
   "metadata": {},
   "outputs": [
    {
     "name": "stdout",
     "output_type": "stream",
     "text": [
      "Register 'Metropoliten' created.\n"
     ]
    }
   ],
   "source": [
    "FARE = 8.0\n",
    "reg = Register('Metropoliten')\n",
    "t1 = Turnstile(reg, id_=1, fare = FARE)\n",
    "t2 = Turnstile(reg, 2, FARE)"
   ]
  },
  {
   "cell_type": "markdown",
   "metadata": {},
   "source": [
    "## Create Cards"
   ]
  },
  {
   "cell_type": "code",
   "execution_count": 4,
   "metadata": {},
   "outputs": [],
   "source": [
    "time = TimeDuration.OneMonth\n",
    "c1 = reg.create_card(CardType.TimeLimit, time)\n",
    "c2 = reg.create_card(CardType.TimeLimit, time)\n",
    "c3 = reg.create_card(CardType.TimeLimit, time)\n",
    "c4 = reg.create_card(CardType.NumLimit, numtravels=1)\n",
    "c5 = reg.create_card(CardType.NumLimit, numtravels=56, isspecial=True)\n",
    "c6 = reg.create_card(CardType.BalanceLimit, balance=12)"
   ]
  },
  {
   "cell_type": "code",
   "execution_count": 5,
   "metadata": {},
   "outputs": [],
   "source": [
    "#ban card c2\n",
    "reg.ban_card(c2.id)\n",
    "#make card c3 expire\n",
    "c3.__dict__['expiration'] = datetime.datetime.now()"
   ]
  },
  {
   "cell_type": "markdown",
   "metadata": {},
   "source": [
    "## Do stuff"
   ]
  },
  {
   "cell_type": "code",
   "execution_count": 6,
   "metadata": {},
   "outputs": [
    {
     "name": "stdout",
     "output_type": "stream",
     "text": [
      "Passage allowed.\n",
      "Active until 2020-04-25 14:10:54.605617\n"
     ]
    }
   ],
   "source": [
    "t1(c1.id)"
   ]
  },
  {
   "cell_type": "code",
   "execution_count": 7,
   "metadata": {},
   "outputs": [
    {
     "name": "stdout",
     "output_type": "stream",
     "text": [
      "Passage forbidden.\n",
      "This card was banned.\n",
      " \n"
     ]
    }
   ],
   "source": [
    "t1(c2.id)"
   ]
  },
  {
   "cell_type": "code",
   "execution_count": 8,
   "metadata": {},
   "outputs": [
    {
     "name": "stdout",
     "output_type": "stream",
     "text": [
      "Passage forbidden.\n",
      "Card has expired.\n"
     ]
    }
   ],
   "source": [
    "t2(c3.id)"
   ]
  },
  {
   "cell_type": "code",
   "execution_count": 9,
   "metadata": {},
   "outputs": [
    {
     "name": "stdout",
     "output_type": "stream",
     "text": [
      "Passage allowed.\n",
      "0 trevels left.\n"
     ]
    }
   ],
   "source": [
    "t2(c4.id)"
   ]
  },
  {
   "cell_type": "code",
   "execution_count": 10,
   "metadata": {},
   "outputs": [
    {
     "name": "stdout",
     "output_type": "stream",
     "text": [
      "Passage forbidden.\n",
      "0 trevels left.\n"
     ]
    }
   ],
   "source": [
    "t2(c4.id)"
   ]
  },
  {
   "cell_type": "code",
   "execution_count": 11,
   "metadata": {},
   "outputs": [
    {
     "name": "stdout",
     "output_type": "stream",
     "text": [
      "Special passage!\n",
      "Passage allowed.\n",
      "55 trevels left.\n"
     ]
    }
   ],
   "source": [
    "t1(c5.id)"
   ]
  },
  {
   "cell_type": "code",
   "execution_count": 12,
   "metadata": {},
   "outputs": [
    {
     "name": "stdout",
     "output_type": "stream",
     "text": [
      "Passage allowed.\n",
      "4.00 UAH left.\n"
     ]
    }
   ],
   "source": [
    "t1(c6.id)"
   ]
  },
  {
   "cell_type": "code",
   "execution_count": 13,
   "metadata": {},
   "outputs": [
    {
     "name": "stdout",
     "output_type": "stream",
     "text": [
      "Passage forbidden.\n",
      "Not enough money on the balance:4.00 UAH.\n"
     ]
    }
   ],
   "source": [
    "t2(c6.id)"
   ]
  },
  {
   "cell_type": "markdown",
   "metadata": {},
   "source": [
    "## Logs"
   ]
  },
  {
   "cell_type": "code",
   "execution_count": 14,
   "metadata": {},
   "outputs": [
    {
     "name": "stdout",
     "output_type": "stream",
     "text": [
      "Card(548d047f-6f21-46da-aec8-252e4420be58)   Allowed at turnstile #1 2020-03-26 14:10:55.734487\n",
      "Card(ac967f65-840d-40b2-878b-401df5474d28) Forbidded at turnstile #1 2020-03-26 14:10:56.130753\n",
      "Card(06255379-42bc-4ced-86a1-debcc7c42873) Forbidded at turnstile #2 2020-03-26 14:10:56.411868\n",
      "Card(15aa8275-9bdb-4ede-8471-ac01cbcef627)   Allowed at turnstile #2 2020-03-26 14:10:56.749789\n",
      "Card(15aa8275-9bdb-4ede-8471-ac01cbcef627) Forbidded at turnstile #2 2020-03-26 14:10:56.989628\n",
      "Card(01809f0b-178d-4775-80e1-de47ac3796ab)   Allowed at turnstile #1 2020-03-26 14:10:57.171138\n",
      "Card(39fd804b-8959-4844-b1ea-90a08dcb6d84)   Allowed at turnstile #1 2020-03-26 14:10:57.372266\n",
      "Card(39fd804b-8959-4844-b1ea-90a08dcb6d84) Forbidded at turnstile #2 2020-03-26 14:10:57.938278\n"
     ]
    }
   ],
   "source": [
    "for card, time, msg in reg.log:\n",
    "    print('Card(%s) %25s %s' %(str(card),msg,str(time)))"
   ]
  },
  {
   "cell_type": "code",
   "execution_count": null,
   "metadata": {},
   "outputs": [],
   "source": []
  }
 ],
 "metadata": {
  "kernelspec": {
   "display_name": "Python 3",
   "language": "python",
   "name": "python3"
  },
  "language_info": {
   "codemirror_mode": {
    "name": "ipython",
    "version": 3
   },
   "file_extension": ".py",
   "mimetype": "text/x-python",
   "name": "python",
   "nbconvert_exporter": "python",
   "pygments_lexer": "ipython3",
   "version": "3.7.3"
  }
 },
 "nbformat": 4,
 "nbformat_minor": 2
}
